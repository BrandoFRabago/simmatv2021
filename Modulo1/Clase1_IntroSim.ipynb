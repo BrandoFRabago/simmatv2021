{
 "cells": [
  {
   "cell_type": "markdown",
   "metadata": {},
   "source": [
    "# **¿Qué es una simulación?**\n",
    "> Introducción a la materia y descripción de las herramientas computacionales que se van a utilizar a lo largo del curso. \n"
   ]
  },
  {
   "cell_type": "markdown",
   "metadata": {},
   "source": [
    "___\n",
    "### Simulación\n",
    "- Es una técnica o conjunto de técnicas que ayudan a entender el comportamiento de un _sistema_ real o hipotético. "
   ]
  },
  {
   "cell_type": "markdown",
   "metadata": {},
   "source": [
    "<img style=\"center\" src=\"https://upload.wikimedia.org/wikipedia/commons/thumb/c/c8/Crowd_simulation%2C_Covent_Garden.jpg/640px-Crowd_simulation%2C_Covent_Garden.jpg\" width=\"500px\" height=\"200px\" alt=\"atom\" />\n",
    "\n",
    "<img style=\"center\" src=\"https://upload.wikimedia.org/wikipedia/commons/thumb/e/ed/Christer_Fuglesang_underwater_EVA_simulation_for_STS-116.jpg/395px-Christer_Fuglesang_underwater_EVA_simulation_for_STS-116.jpg\" width=\"300px\"/>\n",
    "\n",
    "<img style=\"center\" src=\"https://upload.wikimedia.org/wikipedia/commons/4/42/Blender3D_CircularWaveAnim.gif\" width=\"300px\"/>"
   ]
  },
  {
   "cell_type": "markdown",
   "metadata": {},
   "source": [
    "**¿Qué es un sistema?**\n",
    "- Colección de objetos, partes, componentes, etc., que interactúan entre si, dentro de una cierta frontera, para producir un patrón particular o comportamiento. \n",
    "    - Frontera: Es necesaria esta idea para separar al sistema del resto del universo. "
   ]
  },
  {
   "cell_type": "markdown",
   "metadata": {},
   "source": [
    "**¿Qué es un modelo?**\n",
    "- Físicos (replicas) \n",
    "- Abstractos (Modelos matemáticos)\n",
    "    \n",
    "_Tipos_ \n",
    "- Deterministas o Estocásticos. \n",
    "- Dinámicos o estacionarios."
   ]
  },
  {
   "cell_type": "markdown",
   "metadata": {},
   "source": [
    "**¿Porqué hacer simulación?**\n",
    "\n",
    "- Reducción de costos: la simulación es mucho menos costosa que la experimentación en la vida real.\n",
    "- Se pueden probar diferentes ideas en un mismo escenario.\n",
    "- Se puede determinar el impacto potencial de eventos aleatorios (inversión).\n",
    "- Evaluar si ciertos procesos son viables (determinar el impacto a largo plazo).\n",
    "- ..."
   ]
  },
  {
   "cell_type": "markdown",
   "metadata": {},
   "source": [
    "<img style=\"center\" src=\"https://upload.wikimedia.org/wikipedia/commons/4/4a/FAE_visualization.jpg\" width=\"250px\" height=\"200px\" alt=\"atom\" />"
   ]
  },
  {
   "cell_type": "markdown",
   "metadata": {},
   "source": [
    "_Referencia:_ \n",
    "_Simulation Fundamentals,  B. S. Bennett_\n",
    "\n"
   ]
  },
  {
   "cell_type": "markdown",
   "metadata": {},
   "source": [
    "## Herramientas computacionales"
   ]
  },
  {
   "cell_type": "markdown",
   "metadata": {},
   "source": [
    "### - [python](https://www.python.org)\n",
    "\n",
    "<img style=\"float: left; margin: 0px 0px 15px 15px;\" src=\"https://www.python.org/static/community_logos/python-logo.png\" width=\"200px\" height=\"200px\" alt=\"atom\" />"
   ]
  },
  {
   "cell_type": "markdown",
   "metadata": {},
   "source": [
    "### - [anaconda](https://www.anaconda.com/products/individual) \n",
    "\n",
    "<img style=\"float: left; margin: 0px 0px 15px 15px;\" src=\"https://upload.wikimedia.org/wikipedia/en/c/cd/Anaconda_Logo.png\" width=\"120\" />"
   ]
  },
  {
   "cell_type": "markdown",
   "metadata": {},
   "source": [
    "### - [jupyter](http://jupyter.org)\n",
    "\n",
    "<img style=\"float: left; margin: 0px 0px 15px 15px;\" src=\"http://jupyter.org/assets/main-logo.svg\" width=\"80\" />"
   ]
  },
  {
   "cell_type": "markdown",
   "metadata": {},
   "source": [
    "¿Porqué Python?\n",
    "- http://anewdomain.net/spotlight-should-you-invest-in-python-training/\n",
    "- https://www.techrepublic.com/article/why-python-is-so-popular-with-developers-3-reasons-the-language-has-exploded/\n",
    "- https://www.zdnet.com/article/programming-language-of-the-year-python-is-standout-in-latest-rankings/\n",
    "- https://www.economist.com/graphic-detail/2018/07/26/python-is-becoming-the-worlds-most-popular-coding-language\n",
    "- https://www.economist.com/science-and-technology/2018/07/19/python-has-brought-computer-programming-to-a-vast-new-audience\n",
    "- https://medium.com/@mindfiresolutions.usa/python-7-important-reasons-why-you-should-use-python-5801a98a0d0b\n",
    "- https://www.pluralsight.com/blog/software-development/why-python"
   ]
  },
  {
   "cell_type": "markdown",
   "metadata": {},
   "source": [
    "## Instalar ANACONDA... ¡No confundir Anaconda con esto!"
   ]
  },
  {
   "cell_type": "code",
   "execution_count": null,
   "metadata": {},
   "outputs": [],
   "source": [
    "from IPython.display import YouTubeVideo\n",
    "YouTubeVideo('LDZX4ooRsWs')"
   ]
  },
  {
   "cell_type": "markdown",
   "metadata": {},
   "source": [
    "## Herramientas adicionales"
   ]
  },
  {
   "cell_type": "markdown",
   "metadata": {},
   "source": [
    "- [Markdown](https://confluence.atlassian.com/bitbucketserver/markdown-syntax-guide-776639995.html)"
   ]
  },
  {
   "cell_type": "markdown",
   "metadata": {},
   "source": [
    "### Encabezado\n",
    "1. Hola\n",
    "   1. ¿Como están?\n",
    "   2. Esta es la clase de simulación matemática.\n",
    "- **2**\n",
    "    - *2.1*\n",
    "    - *2.2*"
   ]
  },
  {
   "cell_type": "markdown",
   "metadata": {},
   "source": [
    "### jupyter notebook"
   ]
  },
  {
   "cell_type": "markdown",
   "metadata": {},
   "source": [
    "- Aprender a usar el jupyter notebook\n",
    "   - Los notebooks tienen celdas de entrada y generalmente celdas de salida, así como celdas de texto. Las celdas de texto es lo que estas leyendo ahora. Las celdas de código inician con \"In []:\" con algún numero en los brackets. Si te colocas sobre una salda de entrada y presionas Shift-Enter, el código correrá en el ** interprete ** de python y el resultado se imprimirá en la celda de salida. "
   ]
  },
  {
   "cell_type": "markdown",
   "metadata": {},
   "source": [
    "**Trabajando con el notebook de jupyter**"
   ]
  },
  {
   "cell_type": "markdown",
   "metadata": {},
   "source": [
    "Además de poder realizar progrmación, tiene otras ventajas. Como ya se dieron cuenta toda esta presentación esta hecha con el notebook. Además de eso, también se puede incluir directamente dentro de este documento, código <font color=\"blue\"> HTML </font>. \n",
    "\n",
    "Uno de los atractivos más relevantes (personalmente) es que puedes escribir ecuaciones estilo $\\LaTeX$, esto es gracias al proyecto [MathJax](https://www.mathjax.org) el cual se especializa en que podamos publicar matemáticas en línea. A continuación, se muestra una ejemplo. "
   ]
  },
  {
   "cell_type": "markdown",
   "metadata": {},
   "source": [
    "___\n",
    ">Ecuaciones de Maxwell:\n",
    ">$$\\nabla\\cdot \\mathbf{D}=\\rho\\quad \\nabla\\cdot \\mathbf{B}=0\\quad \\nabla\\times \\mathbf{E}=-\\frac{\\partial \\mathbf{B}}{\\partial t}\\quad \\nabla\\times \\mathbf{H} = \\mathbf{J} +\\frac{\\partial \\mathbf{D}}{\\partial t}$$\n",
    "\n",
    "___"
   ]
  },
  {
   "cell_type": "markdown",
   "metadata": {},
   "source": [
    "___\n",
    ">Ecuación de Bernoulli:\n",
    ">$$P_1+\\frac{1}{2}\\rho v_1^2+\\rho g h_1=P_2+\\frac{1}{2}\\rho v_2^2+\\rho g h_2,$$\n",
    ">donde:\n",
    ">- $P_1$, $v_1$ y $h_1$ es la presión, la velocidad y la altura en el punto 1,\n",
    ">- $P_2$, $v_2$ y $h_2$ es la presión, la velocidad y la altura en el punto 2,\n",
    ">- $\\rho$ es la densidad del fluido, y\n",
    ">- $g$ es la aceleración de gravedad.\n",
    "\n",
    "___\n",
    "\n",
    "https://es.khanacademy.org/science/physics/fluids/fluid-dynamics/a/what-is-bernoullis-equation"
   ]
  },
  {
   "cell_type": "markdown",
   "metadata": {},
   "source": [
    "___\n",
    ">Capitalización por *interés compuesto*:\n",
    ">$$C_k=C_0(1+i)^k,$$\n",
    ">donde:\n",
    ">- $C_k$ es el capital al final del $k$-ésimo periodo,\n",
    ">- $C_0$ es el capital inicial,\n",
    ">- $i$ es la tasa de interés pactada, y\n",
    ">- $k$ es el número de periodos.\n",
    "\n",
    "___\n",
    "https://es.wikipedia.org/wiki/Inter%C3%A9s_compuesto"
   ]
  },
  {
   "cell_type": "markdown",
   "metadata": {},
   "source": [
    "#### Archivos de python (script)\n",
    "- Estos son simplemente archivos de texto con la extensión .py\n",
    "     - user $ python miprograma.py\n",
    "- Cada linea en el archivo es una declaración de código en python, o parte del código. "
   ]
  },
  {
   "cell_type": "markdown",
   "metadata": {},
   "source": [
    "#### Programa de bienvenida. \n",
    "welcome.py"
   ]
  },
  {
   "cell_type": "code",
   "execution_count": null,
   "metadata": {},
   "outputs": [],
   "source": [
    "%run welcome.py"
   ]
  },
  {
   "cell_type": "markdown",
   "metadata": {},
   "source": [
    "### [git](https://git-scm.com)\n",
    "<img style=\"float: right; margin: 15px 15px 15px 15px;\" src=\"http://conociendogithub.readthedocs.io/en/latest/_images/Git.png\" title=\"git\" width=\"180\" height=\"50\">\n",
    "\n",
    "`git` es un software (de código abierto) de control de versiones diseñado por *Linus Torvalds*, pensando en la eficiencia y la confiabilidad del mantenimiento de versiones de aplicaciones cuando éstas tienen un gran número de archivos de código fuente.</p>\n",
    "\n",
    "Se llama control de versiones a la gestión de los diversos cambios que se realizan sobre los elementos de algún producto o una configuración del mismo. Una versión, revisión o edición de un producto, es el estado en el que se encuentra el mismo en un momento dado de su desarrollo o modificación.</p>\n",
    "\n",
    "`git` es independiente de `GitHub`, y es el programa que se usa para gestionar todos los cambios en las versiones de un proyecto (individual o colaborativo, local o de acceso remoto)."
   ]
  },
  {
   "cell_type": "markdown",
   "metadata": {},
   "source": [
    "### [GitHub](https://github.com)\n",
    "\n",
    "<img style=\"float: right; margin: 15px 15px 15px 15px;\" src=\"https://c1.staticflickr.com/3/2238/13158675193_2892abac95_z.jpg\" title=\"git\" width=\"180\" height=\"50\">\n",
    "\n",
    "`GitHub` es una compañía que ofrece servicios de *hosting* para repositorios de `git`, y es la forma más popular para trabajar con el control de versiones que brinda `git` de forma colaborativa. En pocas palabras, permite que tanto tú como otras personas del mundo trabajen juntos en proyectos, haciendo control de versiones con `git`.\n",
    "\n",
    "De forma que usando `git` y `GitHub` en conjunto se puede trabajar tanto:\n",
    "- De forma local: repositorios en tu equipo, sin necesidad de conexión a internet (usando únicamente `git`).\n",
    "- De forma remota: repositorios remotos (compartidos) que no están necesariamente en tu máquina.\n",
    "\n",
    "**Importante**: se recomienda crear una cuenta *seria*, no solo porque la vamos a utilizar continuamente en el curso, sino porque probablemente sea parte importante de su carrera profesional."
   ]
  },
  {
   "cell_type": "markdown",
   "metadata": {},
   "source": [
    "### [GitKraken](https://www.gitkraken.com/)\n",
    "\n",
    "<img style=\"float: right; margin: 15px 15px 15px 15px;\" src=\"https://www.gitkraken.com/downloads/brand-assets/gitkraken-keif-teal-sq.png\" title=\"git\" width=\"180\" height=\"50\">\n",
    "\n",
    "**Usamos `git` desde una interfaz gráfica :)**\n",
    "\n",
    "Todos los procedimientos con `git` se pueden correr desde la *consola*. Sin embargo, este modo de utilizar `git` puede ser tedioso para algunos (esto no solo ocurre con `git`).\n",
    "\n",
    "Por ello, `git` viene con algunas herramientas *GUI* (Graphical User Interface) por defecto con su instalación. Aún así, existen varias GUI desarrolladas por otras compañías para brindar una experiencia más cómoda según el sistema operativo.\n",
    "\n",
    "`GitKraken` es entonces una de estas GUI, **gratuita para el uso no comercial**, que tiene versiones para los sistemas operativos *Windows*, *Mac* y *Linux*. La estaremos usando en el curso por su versatilidad."
   ]
  },
  {
   "cell_type": "markdown",
   "metadata": {},
   "source": [
    "### Seguir un proyecto de otra persona\n",
    "Como ejemplo, van a seguir el proyecto de la asignatura **simmatv2021**.\n",
    "\n",
    "Los siguientes pasos nos enseñarán como mantener nuestro repositorio local actualizado con el repositorio de la asignatura.\n",
    "1. Entrar al repositorio https://github.com/esjimenezro/simmatv2021.\n",
    "2. En la esquina superior derecha, dar click en *fork* y esperar un momento. Esta acción copia en su cuenta de `GitHub` un repositorio idéntico al de la materia (con el mismo nombre).\n",
    "3. Desde `GitKraken`, clonar el repositorio (el que ya está en su cuenta).\n",
    "4. En la pestaña *REMOTE* dar click en el signo `+`.\n",
    "    - Picar en `GitHub`.\n",
    "    - Desplegar la pestaña y elegir esjimenezro/porinvo20191.\n",
    "    - Picar en *Add remote*.\n",
    "5. <font color=red>Añadiré un nuevo archvo en el repositorio de la materia y ustedes verán qué pasa en `GitKraken`</font>.\n",
    "6. Arrastrar el repositorio remoto ajeno a la rama *master* y dar click en la opción *Merge esjimenezro/master into master*. Ya el repositorio local está actualizado.\n",
    "7. Para actualizar el repositorio remoto propio hacer un *push*."
   ]
  },
  {
   "cell_type": "markdown",
   "metadata": {},
   "source": [
    "> **Actividad:** <font color = blue> Realizar una presentación personal haciendo uso de la sintaxis `Markdown`. En ella deben incluir un resumen de uno de los  siguientes artículos. </font> \n",
    "\n",
    "- http://anewdomain.net/spotlight-should-you-invest-in-python-training/\n",
    "- https://www.techrepublic.com/article/why-python-is-so-popular-with-developers-3-reasons-the-language-has-exploded/\n",
    "- https://www.zdnet.com/article/programming-language-of-the-year-python-is-standout-in-latest-rankings/\n",
    "- https://www.economist.com/graphic-detail/2018/07/26/python-is-becoming-the-worlds-most-popular-coding-language\n",
    "- https://www.economist.com/science-and-technology/2018/07/19/python-has-brought-computer-programming-to-a-vast-new-audience\n",
    "- https://medium.com/@mindfiresolutions.usa/python-7-important-reasons-why-you-should-use-python-5801a98a0d0b\n",
    "- https://www.pluralsight.com/blog/software-development/why-python"
   ]
  },
  {
   "cell_type": "markdown",
   "metadata": {},
   "source": [
    "<script>\n",
    "  $(document).ready(function(){\n",
    "    $('div.prompt').hide();\n",
    "    $('div.back-to-top').hide();\n",
    "    $('nav#menubar').hide();\n",
    "    $('.breadcrumb').hide();\n",
    "    $('.hidden-print').hide();\n",
    "  });\n",
    "</script>\n",
    "\n",
    "<footer id=\"attribution\" style=\"float:right; color:#808080; background:#fff;\">\n",
    "Created with Jupyter by Esteban Jiménez Rodríguez.\n",
    "</footer>"
   ]
  }
 ],
 "metadata": {
  "anaconda-cloud": {},
  "kernelspec": {
   "display_name": "Python 3",
   "language": "python",
   "name": "python3"
  },
  "language_info": {
   "codemirror_mode": {
    "name": "ipython",
    "version": 3
   },
   "file_extension": ".py",
   "mimetype": "text/x-python",
   "name": "python",
   "nbconvert_exporter": "python",
   "pygments_lexer": "ipython3",
   "version": "3.7.6"
  }
 },
 "nbformat": 4,
 "nbformat_minor": 1
}
